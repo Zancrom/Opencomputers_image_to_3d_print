{
 "cells": [
  {
   "cell_type": "code",
   "execution_count": 52,
   "metadata": {},
   "outputs": [],
   "source": [
    "import os\n",
    "import shutil\n",
    "if os.path.isdir(\"3D files\"):\n",
    "    shutil.rmtree(\"3D files\")\n",
    "os.mkdir(\"3D files\")"
   ]
  },
  {
   "cell_type": "code",
   "execution_count": 53,
   "metadata": {},
   "outputs": [],
   "source": [
    "texture_wool = {\n",
    "    \"wool_colored_white\": (201, 201, 201), \n",
    "    \"wool_colored_silver\":(121, 121, 121), \n",
    "    \"wool_colored_gray\":(62, 62, 62), \n",
    "    \"wool_colored_black\":(12, 12, 12), \n",
    "    \"wool_colored_brown\":(104, 66, 39), \n",
    "    \"wool_colored_red\":(118, 27, 26), \n",
    "    \"wool_colored_orange\":(183, 82, 5), \n",
    "    \"wool_colored_yellow\":(191, 140, 17),  \n",
    "    \"wool_colored_lime\":(81, 140, 19), \n",
    "    \"wool_colored_green\":(61, 77, 26), \n",
    "    \"wool_colored_cyan\":(17, 104, 111), \n",
    "    \"wool_colored_light_blue\":(57, 153, 180), \n",
    "    \"wool_colored_blue\":(39, 40, 119), \n",
    "    \"wool_colored_purple\":(104, 37, 142),\n",
    "    \"wool_colored_magenta\":(167, 76, 165), \n",
    "    \"wool_colored_pink\":(182, 95, 123)\n",
    "}\n",
    "\n",
    "texture_terracota = {\n",
    "    \"hardened_clay_stained_white\":(164, 136, 126), \n",
    "    \"hardened_clay_stained_silver\":(107, 83, 76), \n",
    "    \"hardened_clay_stained_gray\":(47, 34, 28), \n",
    "    \"hardened_clay_stained_black\":(29, 18, 13), \n",
    "    \"hardened_clay_stained_brown\":(62, 42, 29), \n",
    "    \"hardened_clay_stained_red\":(115, 51, 38), \n",
    "    \"hardened_clay_stained_orange\":(130, 69, 32), \n",
    "    \"hardened_clay_stained_yellow\":(150, 108, 29),  \n",
    "    \"hardened_clay_stained_lime\":(81, 92, 42), \n",
    "    \"hardened_clay_stained_green\":(60, 66, 33), \n",
    "    \"hardened_clay_stained_cyan\":(67, 70, 71), \n",
    "    \"hardened_clay_stained_light_blue\":(90, 85, 109), \n",
    "    \"hardened_clay_stained_blue\":(58, 47, 72), \n",
    "    \"hardened_clay_stained_purple\":(93, 55, 68), \n",
    "    \"hardened_clay_stained_magenta\":(122, 72, 87), \n",
    "    \"hardened_clay_stained_pink\":(128, 62, 62)\n",
    "}\n",
    "\n",
    "texture_others = {\n",
    "    \"prismarine_bricks\":(87, 141, 130), \n",
    "    \"emerald_block\":(79, 185, 109), \n",
    "    \"sponge\":(159, 157, 75), \n",
    "    \"stone\":(100, 100, 100), \n",
    "    \"sandstone_normal\":(172, 166, 123), \n",
    "    \"dirt\":(96, 67, 56),\n",
    "    \"sponge_wet\":(118, 115, 37), \n",
    "    \"purpur_block\":(131, 93, 131), \n",
    "    \"stone_granite_smooth\":(130, 91, 76),\n",
    "    \"diamond_block\":(107,181,178),\n",
    "}\n",
    "\n",
    "\n",
    "all_textures = [texture_wool, texture_terracota, texture_others]"
   ]
  },
  {
   "cell_type": "code",
   "execution_count": 54,
   "metadata": {},
   "outputs": [],
   "source": [
    "import math\n",
    "\n",
    "def closest_pixel_distance(pixel_image):\n",
    "    min_dist = 10000\n",
    "    best_texture = \"\"\n",
    "    pixel_value = None\n",
    "    for texture_pack in all_textures:\n",
    "        for texture, pixel in texture_pack.items():\n",
    "            dist = math.sqrt((pixel[0] - pixel_image[0])**2 + (pixel[1] - pixel_image[1])**2 + (pixel[2] - pixel_image[2])**2)\n",
    "            if dist < min_dist:\n",
    "                min_dist = dist\n",
    "                best_texture = texture\n",
    "                pixel_value = pixel\n",
    "    return best_texture, pixel_value"
   ]
  },
  {
   "cell_type": "code",
   "execution_count": 55,
   "metadata": {},
   "outputs": [],
   "source": [
    "from PIL import Image\n",
    "\n",
    "im = Image.open('Coucou_cropped.png')\n",
    "im.thumbnail((im.size[0] / 8, im.size[1] / 8))\n",
    "pixels = list(im.getdata())\n",
    "width, height = im.size\n",
    "pixels = [pixels[i * width:(i + 1) * width] for i in range(height)]"
   ]
  },
  {
   "cell_type": "code",
   "execution_count": 56,
   "metadata": {},
   "outputs": [],
   "source": [
    "new_pixels = []\n",
    "textures = []\n",
    "for line in pixels:\n",
    "    l = [closest_pixel_distance(pixel)[1] for pixel in line]\n",
    "    l2 = [closest_pixel_distance(pixel)[0] for pixel in line]\n",
    "    new_pixels.append(l)\n",
    "    textures.append(l2)"
   ]
  },
  {
   "cell_type": "code",
   "execution_count": 57,
   "metadata": {},
   "outputs": [],
   "source": [
    "import numpy as np\n",
    "\n",
    "array = np.array(new_pixels, dtype=np.uint8)\n",
    "new_image = Image.fromarray(array)\n",
    "new_image.save('new.png')"
   ]
  },
  {
   "cell_type": "code",
   "execution_count": 58,
   "metadata": {},
   "outputs": [],
   "source": [
    "width, height = len(new_pixels[0]), len(new_pixels)\n",
    "\n",
    "textures_dict = {}\n",
    "pixels_dict = {}\n",
    "\n",
    "block_size = 4\n",
    "size = 16 // block_size\n",
    "\n",
    "for i, line in enumerate(new_pixels):\n",
    "    if i // block_size not in pixels_dict:\n",
    "        pixels_dict[i // block_size] = {}\n",
    "    for j, pixel in enumerate(line):\n",
    "        if j // block_size not in pixels_dict[i // block_size]:\n",
    "            pixels_dict[i // block_size][j // block_size] = {}\n",
    "        if i % block_size not in pixels_dict[i // block_size][j // block_size]:\n",
    "            pixels_dict[i // block_size][j // block_size][i % block_size] = []\n",
    "        pixels_dict[i // block_size][j // block_size][i % block_size].append(pixel)\n",
    "\n",
    "\n",
    "for i, line in enumerate(textures):\n",
    "    if i // block_size not in textures_dict:\n",
    "        textures_dict[i // block_size] = {}\n",
    "    for j, texture in enumerate(line):\n",
    "        if j // block_size not in textures_dict[i // block_size]:\n",
    "            textures_dict[i // block_size][j // block_size] = {}\n",
    "        if i % block_size not in textures_dict[i // block_size][j // block_size]:\n",
    "            textures_dict[i // block_size][j // block_size][i % block_size] = []\n",
    "        textures_dict[i // block_size][j // block_size][i % block_size].append(texture)\n"
   ]
  },
  {
   "cell_type": "code",
   "execution_count": 59,
   "metadata": {},
   "outputs": [
    {
     "data": {
      "text/plain": [
       "(21, 43, 4)"
      ]
     },
     "execution_count": 59,
     "metadata": {},
     "output_type": "execute_result"
    }
   ],
   "source": [
    "len(textures_dict), len(textures_dict[0]), len(textures_dict[0][0])"
   ]
  },
  {
   "cell_type": "code",
   "execution_count": 60,
   "metadata": {},
   "outputs": [],
   "source": [
    "def find_background(block):\n",
    "    list_textures = {}\n",
    "    for i, texture_list in block.items():\n",
    "        for texture in texture_list:\n",
    "            if texture not in list_textures:\n",
    "                list_textures[texture] = 1\n",
    "            else:\n",
    "                list_textures[texture] += 1\n",
    "    max = 0\n",
    "    background = \"\"\n",
    "    for texture, i in list_textures.items():\n",
    "        if i > max:\n",
    "            max = i\n",
    "            background = texture\n",
    "    return background"
   ]
  },
  {
   "cell_type": "code",
   "execution_count": 61,
   "metadata": {},
   "outputs": [
    {
     "data": {
      "text/plain": [
       "'sponge'"
      ]
     },
     "execution_count": 61,
     "metadata": {},
     "output_type": "execute_result"
    }
   ],
   "source": [
    "find_background(textures_dict[0][0])"
   ]
  },
  {
   "cell_type": "code",
   "execution_count": 62,
   "metadata": {},
   "outputs": [],
   "source": [
    "def indices_in(corners, l):\n",
    "    for m in l:\n",
    "        if (m[0][0] <= corners[0][0] and m[0][1] <= corners[0][1]) or (m[1][0] >= corners[1][0] and m[1][1] >= corners[1][1]):\n",
    "            return True\n",
    "    return False"
   ]
  },
  {
   "cell_type": "code",
   "execution_count": 63,
   "metadata": {},
   "outputs": [],
   "source": [
    "def find_bigger_blocks(block):\n",
    "    sub_blocks = []\n",
    "    textures_matrix = np.array([[pixel for pixel in list_pixel] for i, list_pixel in block.items()])\n",
    "    for i in range(5, 1, -1):\n",
    "        for j in range(5, 1, -1):\n",
    "            for i2 in range(len(textures_matrix) - i + 1):\n",
    "                for j2 in range(len(textures_matrix[0]) - j + 1):\n",
    "                    test_matrix = textures_matrix[i2:i2+i, j2:j2+j]\n",
    "                    if test_matrix[0][0] != None and np.all(test_matrix == test_matrix[0][0]):\n",
    "                        if not indices_in(((i2, j2), (i2 + i - 1, j2 + j - 1)), sub_blocks):\n",
    "                            sub_blocks.append(((i2, j2), (i2+i-1, j2+j-1)))\n",
    "    return sub_blocks\n",
    "        "
   ]
  },
  {
   "cell_type": "code",
   "execution_count": 64,
   "metadata": {},
   "outputs": [
    {
     "data": {
      "text/plain": [
       "[((0, 0), (1, 2))]"
      ]
     },
     "execution_count": 64,
     "metadata": {},
     "output_type": "execute_result"
    }
   ],
   "source": [
    "find_bigger_blocks(textures_dict[0][0])"
   ]
  },
  {
   "cell_type": "code",
   "execution_count": 65,
   "metadata": {},
   "outputs": [],
   "source": [
    "for i, texture_line in enumerate(textures_dict):\n",
    "    for j, texture_block in enumerate(textures_dict[texture_line]):\n",
    "        lenght_shapes = 1\n",
    "        textures = textures_dict[texture_line][texture_block]\n",
    "        background = find_background(textures)\n",
    "        long_str = \"{\\n\\t\" + f'label=\"Coucou\",\\n\\ttooltip=\"block-{i},{j}\",\\n\\tlightlevel=8,\\n\\tshapes=' + '{\\n'\n",
    "        long_str += \"\\t\\t{\" + f'0, 0, 15, 16, 16, 16, texture=\"{background}\"' + \"},\\n\"\n",
    "        for i2, texture_list in textures.items():\n",
    "            for j2, texture in enumerate(texture_list):\n",
    "                if texture == background:\n",
    "                    texture_list[j2] = None\n",
    "        bigger_blocks = find_bigger_blocks(textures)\n",
    "        for block in bigger_blocks:\n",
    "            texture = textures[block[0][0]][block[0][1]]\n",
    "            long_str += \"\\t\\t{\" + f'{size*block[0][0]}, {16-size*block[0][1]}, 14, {size*block[1][0]+size}, {16-size*block[1][1]-size}, 15, texture=\"{texture}\"' + \"},\\n\"\n",
    "        for i2, texture_list in textures.items():\n",
    "            for j2, texture in enumerate(texture_list):\n",
    "                if indices_in(((i2,j2),(i2,j2)), bigger_blocks):\n",
    "                    texture_list[j2] = None\n",
    "        lenght_shapes += len(bigger_blocks)\n",
    "        \n",
    "        for k, texture_list in textures.items():\n",
    "            for l, texture in enumerate(texture_list):\n",
    "                if texture is not None:\n",
    "                    long_str += \"\\t\\t{\" + f'{size*l}, {16-size*k}, 14, {size*l+size}, {16-size*k-size}, 15, texture=\"{texture}\"' + \"},\\n\"\n",
    "                    lenght_shapes += 1\n",
    "        long_str += \"\\t}\\n}\"\n",
    "        if lenght_shapes > 20:\n",
    "            print(lenght_shapes)\n",
    "            print(long_str)\n",
    "            break\n",
    "        with open(f\"3D files\\\\block_{i}-{j}.3dm\", \"w+\") as f:\n",
    "            f.write(long_str)\n",
    "    if lenght_shapes > 20:\n",
    "        break"
   ]
  }
 ],
 "metadata": {
  "kernelspec": {
   "display_name": "Python 3",
   "language": "python",
   "name": "python3"
  },
  "language_info": {
   "codemirror_mode": {
    "name": "ipython",
    "version": 3
   },
   "file_extension": ".py",
   "mimetype": "text/x-python",
   "name": "python",
   "nbconvert_exporter": "python",
   "pygments_lexer": "ipython3",
   "version": "3.10.11"
  }
 },
 "nbformat": 4,
 "nbformat_minor": 2
}
